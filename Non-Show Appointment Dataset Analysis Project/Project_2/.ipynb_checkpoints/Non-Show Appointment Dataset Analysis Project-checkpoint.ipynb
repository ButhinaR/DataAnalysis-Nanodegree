{
 "cells": [
  {
   "cell_type": "markdown",
   "metadata": {},
   "source": [
    "# Project: Non-Appointment Dataset Analysis\n",
    "\n",
    "## Table of Contents\n",
    "<ul>\n",
    "<li><a href=\"#intro\">Introduction</a></li>\n",
    "<li><a href=\"#wrangling\">Data Wrangling</a></li>\n",
    "<li><a href=\"#eda\">Exploratory Data Analysis</a></li>\n",
    "<li><a href=\"#conclusions\">Conclusions</a></li>\n",
    "</ul>"
   ]
  },
  {
   "cell_type": "markdown",
   "metadata": {},
   "source": [
    "<a id='intro'></a>\n",
    "## Introduction\n",
    "\n",
    "\n",
    "In this project, we will be analyzing the data that collected from 100k medical appointments in Brazil, by focusing on the main question of whether or not patients show up for their appointment. A number of characteristics about the patient are included in the row’s dataset such as (PatientId, AppointmentID, Gender, Age, Neighbourhood, Scholarship, Hipertension, Diabetes, Alcoholism, Handcap, SMS_received, No-show) we will be associate some of them in order to answer these questions: \n",
    "*\tHow many patients, whether they are male or female who show up their appointments? \n",
    "*\tDid the patients who show up their appointments received a reminder such SMS message? \n",
    "*\tHow old the patients who show up their appointments?  \n",
    "*   Did the patients who show up their appointments have chronic illness such as hipertension and diabetes and how old are they? \n",
    "*\tDid the patients who have scholarship and suffer from Alcoholism show up their appointments?\n"
   ]
  },
  {
   "cell_type": "markdown",
   "metadata": {},
   "source": [
    "<a id='wrangling'></a>\n",
    "## Data Wrangling\n",
    "\n",
    "### General Properties\n",
    "\n",
    "In this section, we will use 'noshowappointments' data set in order to complete our analysis. First we will import the important libraries such as nump, pandas, and matplotlib as shown below: "
   ]
  },
  {
   "cell_type": "code",
   "execution_count": 47,
   "metadata": {},
   "outputs": [],
   "source": [
    "import numpy as np\n",
    "import pandas as pd \n",
    "import matplotlib.pyplot as plt \n",
    "%matplotlib inline "
   ]
  },
  {
   "cell_type": "markdown",
   "metadata": {},
   "source": [
    "Then, we will read the file and present at leaset 6 rows to understand the type for each column, and to know the size of the dataset (# of rows and columns). "
   ]
  },
  {
   "cell_type": "code",
   "execution_count": 48,
   "metadata": {
    "scrolled": false
   },
   "outputs": [
    {
     "data": {
      "text/html": [
       "<div>\n",
       "<style scoped>\n",
       "    .dataframe tbody tr th:only-of-type {\n",
       "        vertical-align: middle;\n",
       "    }\n",
       "\n",
       "    .dataframe tbody tr th {\n",
       "        vertical-align: top;\n",
       "    }\n",
       "\n",
       "    .dataframe thead th {\n",
       "        text-align: right;\n",
       "    }\n",
       "</style>\n",
       "<table border=\"1\" class=\"dataframe\">\n",
       "  <thead>\n",
       "    <tr style=\"text-align: right;\">\n",
       "      <th></th>\n",
       "      <th>PatientId</th>\n",
       "      <th>AppointmentID</th>\n",
       "      <th>Gender</th>\n",
       "      <th>ScheduledDay</th>\n",
       "      <th>AppointmentDay</th>\n",
       "      <th>Age</th>\n",
       "      <th>Neighbourhood</th>\n",
       "      <th>Scholarship</th>\n",
       "      <th>Hipertension</th>\n",
       "      <th>Diabetes</th>\n",
       "      <th>Alcoholism</th>\n",
       "      <th>Handcap</th>\n",
       "      <th>SMS_received</th>\n",
       "      <th>No-show</th>\n",
       "    </tr>\n",
       "  </thead>\n",
       "  <tbody>\n",
       "    <tr>\n",
       "      <th>0</th>\n",
       "      <td>2.987250e+13</td>\n",
       "      <td>5642903</td>\n",
       "      <td>F</td>\n",
       "      <td>2016-04-29T18:38:08Z</td>\n",
       "      <td>2016-04-29T00:00:00Z</td>\n",
       "      <td>62</td>\n",
       "      <td>JARDIM DA PENHA</td>\n",
       "      <td>0</td>\n",
       "      <td>1</td>\n",
       "      <td>0</td>\n",
       "      <td>0</td>\n",
       "      <td>0</td>\n",
       "      <td>0</td>\n",
       "      <td>No</td>\n",
       "    </tr>\n",
       "    <tr>\n",
       "      <th>1</th>\n",
       "      <td>5.589978e+14</td>\n",
       "      <td>5642503</td>\n",
       "      <td>M</td>\n",
       "      <td>2016-04-29T16:08:27Z</td>\n",
       "      <td>2016-04-29T00:00:00Z</td>\n",
       "      <td>56</td>\n",
       "      <td>JARDIM DA PENHA</td>\n",
       "      <td>0</td>\n",
       "      <td>0</td>\n",
       "      <td>0</td>\n",
       "      <td>0</td>\n",
       "      <td>0</td>\n",
       "      <td>0</td>\n",
       "      <td>No</td>\n",
       "    </tr>\n",
       "    <tr>\n",
       "      <th>2</th>\n",
       "      <td>4.262962e+12</td>\n",
       "      <td>5642549</td>\n",
       "      <td>F</td>\n",
       "      <td>2016-04-29T16:19:04Z</td>\n",
       "      <td>2016-04-29T00:00:00Z</td>\n",
       "      <td>62</td>\n",
       "      <td>MATA DA PRAIA</td>\n",
       "      <td>0</td>\n",
       "      <td>0</td>\n",
       "      <td>0</td>\n",
       "      <td>0</td>\n",
       "      <td>0</td>\n",
       "      <td>0</td>\n",
       "      <td>No</td>\n",
       "    </tr>\n",
       "    <tr>\n",
       "      <th>3</th>\n",
       "      <td>8.679512e+11</td>\n",
       "      <td>5642828</td>\n",
       "      <td>F</td>\n",
       "      <td>2016-04-29T17:29:31Z</td>\n",
       "      <td>2016-04-29T00:00:00Z</td>\n",
       "      <td>8</td>\n",
       "      <td>PONTAL DE CAMBURI</td>\n",
       "      <td>0</td>\n",
       "      <td>0</td>\n",
       "      <td>0</td>\n",
       "      <td>0</td>\n",
       "      <td>0</td>\n",
       "      <td>0</td>\n",
       "      <td>No</td>\n",
       "    </tr>\n",
       "    <tr>\n",
       "      <th>4</th>\n",
       "      <td>8.841186e+12</td>\n",
       "      <td>5642494</td>\n",
       "      <td>F</td>\n",
       "      <td>2016-04-29T16:07:23Z</td>\n",
       "      <td>2016-04-29T00:00:00Z</td>\n",
       "      <td>56</td>\n",
       "      <td>JARDIM DA PENHA</td>\n",
       "      <td>0</td>\n",
       "      <td>1</td>\n",
       "      <td>1</td>\n",
       "      <td>0</td>\n",
       "      <td>0</td>\n",
       "      <td>0</td>\n",
       "      <td>No</td>\n",
       "    </tr>\n",
       "    <tr>\n",
       "      <th>5</th>\n",
       "      <td>9.598513e+13</td>\n",
       "      <td>5626772</td>\n",
       "      <td>F</td>\n",
       "      <td>2016-04-27T08:36:51Z</td>\n",
       "      <td>2016-04-29T00:00:00Z</td>\n",
       "      <td>76</td>\n",
       "      <td>REPÚBLICA</td>\n",
       "      <td>0</td>\n",
       "      <td>1</td>\n",
       "      <td>0</td>\n",
       "      <td>0</td>\n",
       "      <td>0</td>\n",
       "      <td>0</td>\n",
       "      <td>No</td>\n",
       "    </tr>\n",
       "  </tbody>\n",
       "</table>\n",
       "</div>"
      ],
      "text/plain": [
       "      PatientId  AppointmentID Gender          ScheduledDay  \\\n",
       "0  2.987250e+13        5642903      F  2016-04-29T18:38:08Z   \n",
       "1  5.589978e+14        5642503      M  2016-04-29T16:08:27Z   \n",
       "2  4.262962e+12        5642549      F  2016-04-29T16:19:04Z   \n",
       "3  8.679512e+11        5642828      F  2016-04-29T17:29:31Z   \n",
       "4  8.841186e+12        5642494      F  2016-04-29T16:07:23Z   \n",
       "5  9.598513e+13        5626772      F  2016-04-27T08:36:51Z   \n",
       "\n",
       "         AppointmentDay  Age      Neighbourhood  Scholarship  Hipertension  \\\n",
       "0  2016-04-29T00:00:00Z   62    JARDIM DA PENHA            0             1   \n",
       "1  2016-04-29T00:00:00Z   56    JARDIM DA PENHA            0             0   \n",
       "2  2016-04-29T00:00:00Z   62      MATA DA PRAIA            0             0   \n",
       "3  2016-04-29T00:00:00Z    8  PONTAL DE CAMBURI            0             0   \n",
       "4  2016-04-29T00:00:00Z   56    JARDIM DA PENHA            0             1   \n",
       "5  2016-04-29T00:00:00Z   76          REPÚBLICA            0             1   \n",
       "\n",
       "   Diabetes  Alcoholism  Handcap  SMS_received No-show  \n",
       "0         0           0        0             0      No  \n",
       "1         0           0        0             0      No  \n",
       "2         0           0        0             0      No  \n",
       "3         0           0        0             0      No  \n",
       "4         1           0        0             0      No  \n",
       "5         0           0        0             0      No  "
      ]
     },
     "execution_count": 48,
     "metadata": {},
     "output_type": "execute_result"
    }
   ],
   "source": [
    "df = pd.read_csv('noshowappointments_Dataset.csv')\n",
    "df.head (6)"
   ]
  },
  {
   "cell_type": "code",
   "execution_count": 49,
   "metadata": {
    "scrolled": false
   },
   "outputs": [
    {
     "name": "stdout",
     "output_type": "stream",
     "text": [
      "<class 'pandas.core.frame.DataFrame'>\n",
      "RangeIndex: 110527 entries, 0 to 110526\n",
      "Data columns (total 14 columns):\n",
      " #   Column          Non-Null Count   Dtype  \n",
      "---  ------          --------------   -----  \n",
      " 0   PatientId       110527 non-null  float64\n",
      " 1   AppointmentID   110527 non-null  int64  \n",
      " 2   Gender          110527 non-null  object \n",
      " 3   ScheduledDay    110527 non-null  object \n",
      " 4   AppointmentDay  110527 non-null  object \n",
      " 5   Age             110527 non-null  int64  \n",
      " 6   Neighbourhood   110527 non-null  object \n",
      " 7   Scholarship     110527 non-null  int64  \n",
      " 8   Hipertension    110527 non-null  int64  \n",
      " 9   Diabetes        110527 non-null  int64  \n",
      " 10  Alcoholism      110527 non-null  int64  \n",
      " 11  Handcap         110527 non-null  int64  \n",
      " 12  SMS_received    110527 non-null  int64  \n",
      " 13  No-show         110527 non-null  object \n",
      "dtypes: float64(1), int64(8), object(5)\n",
      "memory usage: 11.8+ MB\n"
     ]
    }
   ],
   "source": [
    "df.info()"
   ]
  },
  {
   "cell_type": "code",
   "execution_count": 50,
   "metadata": {},
   "outputs": [
    {
     "data": {
      "text/plain": [
       "(110527, 14)"
      ]
     },
     "execution_count": 50,
     "metadata": {},
     "output_type": "execute_result"
    }
   ],
   "source": [
    "df.shape"
   ]
  },
  {
   "cell_type": "markdown",
   "metadata": {},
   "source": [
    "In this dataset, we found 14 cloumns with diffrent data type, and we found apporximatly 110527 records. The describtion of each column is shown below: \n",
    "\n",
    "* PatientId: Describe an identity document of the patient usually takes an integer or float values. \n",
    "\n",
    "* AppointmentID: Describe id for any appointment to avoid redundency in the rows dataset. PatientId and AppointmentID considred as a primary key for this dataset. \n",
    "\n",
    "* Gender: Describe the Gender of the patient wether they are male (M) or female (F). \n",
    "\n",
    "* ScheduledDay: Describe the date and time where the patient set up their appointments.  \n",
    "\n",
    "* AppointmentDay: Describe the date of the appointments.\n",
    "\n",
    "* Age: Describe the age of the patient usually takes an integer value. \n",
    "\n",
    "* Neighbourhood: Indicates the location of the hospital.\n",
    "\n",
    "* Scholarship: Indicates whether or not the patient is enrolled in Brasilian Welfare program Bolsa Família. \n",
    "\n",
    "* Hipertension: It is a flag, says ‘1’ if the patients have a hypertension, and ‘0’ if they did not have a hypertension. \n",
    "\n",
    "* Diabetes: It is a flag, says ‘1’ if the patients have diabetes, and ‘0’ if they did not have diabetes. \n",
    "\n",
    "* Alcoholism: It is a flag, says ‘1’ if the patients have alcoholism, and ‘0’ if they did not have alcoholism.       \n",
    "* Handcap: Describe the level of handcap of the patients from (0 till 4), whearse the 0 level means no handcap the patient have. \n",
    "\n",
    "* SMS_receive: It is a flag, says ‘1’ if the patients received SMS message, and ‘0’ if they did not received SMS message.  \n",
    "\n",
    "* No-show: It says ‘No’ if the patients showed up to their appointment, and ‘Yes’ if they did not show up. "
   ]
  },
  {
   "cell_type": "markdown",
   "metadata": {},
   "source": [
    "### Data Cleaning (Steps)\n",
    "\n",
    "In this section, multiple cleaning opertions will be done on the dataset in order to be ready for analysis phase."
   ]
  },
  {
   "cell_type": "code",
   "execution_count": 51,
   "metadata": {},
   "outputs": [
    {
     "name": "stdout",
     "output_type": "stream",
     "text": [
      "<class 'pandas.core.frame.DataFrame'>\n",
      "RangeIndex: 110527 entries, 0 to 110526\n",
      "Data columns (total 14 columns):\n",
      " #   Column          Non-Null Count   Dtype  \n",
      "---  ------          --------------   -----  \n",
      " 0   PatientId       110527 non-null  float64\n",
      " 1   AppointmentID   110527 non-null  int64  \n",
      " 2   Gender          110527 non-null  object \n",
      " 3   ScheduledDay    110527 non-null  object \n",
      " 4   AppointmentDay  110527 non-null  object \n",
      " 5   Age             110527 non-null  int64  \n",
      " 6   Neighbourhood   110527 non-null  object \n",
      " 7   Scholarship     110527 non-null  int64  \n",
      " 8   Hipertension    110527 non-null  int64  \n",
      " 9   Diabetes        110527 non-null  int64  \n",
      " 10  Alcoholism      110527 non-null  int64  \n",
      " 11  Handcap         110527 non-null  int64  \n",
      " 12  SMS_received    110527 non-null  int64  \n",
      " 13  No-show         110527 non-null  object \n",
      "dtypes: float64(1), int64(8), object(5)\n",
      "memory usage: 11.8+ MB\n"
     ]
    }
   ],
   "source": [
    "df.info()"
   ]
  },
  {
   "cell_type": "markdown",
   "metadata": {},
   "source": [
    "#### 1. Missing Data: \n",
    "As we can see from the above description of the dataset, there are no missing value inside the rows, the number of nun-null values for each column were 110527, which indicate for the total number of the rows dataset."
   ]
  },
  {
   "cell_type": "markdown",
   "metadata": {},
   "source": [
    "#### 2. Redundency: \n",
    "There are no repeated for the rows dataset. We use the following command, which returen 0 value, this means no redundancy for the rows dataset.  "
   ]
  },
  {
   "cell_type": "code",
   "execution_count": 52,
   "metadata": {
    "scrolled": true
   },
   "outputs": [
    {
     "data": {
      "text/plain": [
       "0"
      ]
     },
     "execution_count": 52,
     "metadata": {},
     "output_type": "execute_result"
    }
   ],
   "source": [
    "sum(df.duplicated())"
   ]
  },
  {
   "cell_type": "markdown",
   "metadata": {},
   "source": [
    "#### 3. Data Type: \n",
    "As we can see from the above description for the dataset (using pd.info() command), there are two columns (ScheduledDay) and (AppointmentDay) have object data type which required to be changed to the DataTime Type. The following command have been used for 'ScheduledDay' column to change it's type: "
   ]
  },
  {
   "cell_type": "code",
   "execution_count": 53,
   "metadata": {},
   "outputs": [],
   "source": [
    "df['ScheduledDay']= pd.to_datetime(df['ScheduledDay'])"
   ]
  },
  {
   "cell_type": "code",
   "execution_count": 54,
   "metadata": {
    "scrolled": true
   },
   "outputs": [
    {
     "data": {
      "text/plain": [
       "0   2016-04-29 18:38:08+00:00\n",
       "1   2016-04-29 16:08:27+00:00\n",
       "Name: ScheduledDay, dtype: datetime64[ns, UTC]"
      ]
     },
     "execution_count": 54,
     "metadata": {},
     "output_type": "execute_result"
    }
   ],
   "source": [
    "df['ScheduledDay'].head(2)"
   ]
  },
  {
   "cell_type": "markdown",
   "metadata": {},
   "source": [
    "In the 'AppointmentDay' column, we faced problem which there is no space between date and time in each row, so, we define a new list called 'new_value' to store the new value of 'AppointmentDay' column after that, we append the last 10 characters using append () command to remove them from each cell. Then, we save the new_value list inside 'AppointmentDay' column. After that, we changed the type of 'AppointmentDay' column to DateTime type. The steps are shown below: "
   ]
  },
  {
   "cell_type": "code",
   "execution_count": 55,
   "metadata": {},
   "outputs": [
    {
     "data": {
      "text/plain": [
       "0    2016-04-29T00:00:00Z\n",
       "1    2016-04-29T00:00:00Z\n",
       "Name: AppointmentDay, dtype: object"
      ]
     },
     "execution_count": 55,
     "metadata": {},
     "output_type": "execute_result"
    }
   ],
   "source": [
    "df['AppointmentDay'].head(2)"
   ]
  },
  {
   "cell_type": "code",
   "execution_count": 56,
   "metadata": {
    "scrolled": false
   },
   "outputs": [],
   "source": [
    "new_value = []\n",
    "for i in df['AppointmentDay']:\n",
    "         new_value.append(i[:-10])"
   ]
  },
  {
   "cell_type": "code",
   "execution_count": 57,
   "metadata": {},
   "outputs": [],
   "source": [
    "df['AppointmentDay'] = new_value"
   ]
  },
  {
   "cell_type": "code",
   "execution_count": 58,
   "metadata": {},
   "outputs": [
    {
     "data": {
      "text/plain": [
       "0    2016-04-29\n",
       "1    2016-04-29\n",
       "Name: AppointmentDay, dtype: object"
      ]
     },
     "execution_count": 58,
     "metadata": {},
     "output_type": "execute_result"
    }
   ],
   "source": [
    "df['AppointmentDay'].head(2)"
   ]
  },
  {
   "cell_type": "code",
   "execution_count": 59,
   "metadata": {},
   "outputs": [],
   "source": [
    "df['AppointmentDay']= pd.to_datetime(df['AppointmentDay'])"
   ]
  },
  {
   "cell_type": "code",
   "execution_count": 60,
   "metadata": {},
   "outputs": [
    {
     "data": {
      "text/plain": [
       "0   2016-04-29\n",
       "1   2016-04-29\n",
       "Name: AppointmentDay, dtype: datetime64[ns]"
      ]
     },
     "execution_count": 60,
     "metadata": {},
     "output_type": "execute_result"
    }
   ],
   "source": [
    "df['AppointmentDay'].head(2)"
   ]
  },
  {
   "cell_type": "markdown",
   "metadata": {},
   "source": [
    "#### 4. Drop Columns:\n",
    "In this dataset, we found some columns which are not important during analysis phase, so we drop them in order to make a clean visulaiztion for the dataset. We dropped (PatientId), (AppointmentID) and (Neighbourhood) from the dataset using the following command below:  "
   ]
  },
  {
   "cell_type": "code",
   "execution_count": 61,
   "metadata": {
    "scrolled": true
   },
   "outputs": [],
   "source": [
    "df.drop(['PatientId','AppointmentID','Neighbourhood'] , axis=1, inplace=True)"
   ]
  },
  {
   "cell_type": "code",
   "execution_count": 62,
   "metadata": {},
   "outputs": [
    {
     "data": {
      "text/html": [
       "<div>\n",
       "<style scoped>\n",
       "    .dataframe tbody tr th:only-of-type {\n",
       "        vertical-align: middle;\n",
       "    }\n",
       "\n",
       "    .dataframe tbody tr th {\n",
       "        vertical-align: top;\n",
       "    }\n",
       "\n",
       "    .dataframe thead th {\n",
       "        text-align: right;\n",
       "    }\n",
       "</style>\n",
       "<table border=\"1\" class=\"dataframe\">\n",
       "  <thead>\n",
       "    <tr style=\"text-align: right;\">\n",
       "      <th></th>\n",
       "      <th>Gender</th>\n",
       "      <th>ScheduledDay</th>\n",
       "      <th>AppointmentDay</th>\n",
       "      <th>Age</th>\n",
       "      <th>Scholarship</th>\n",
       "      <th>Hipertension</th>\n",
       "      <th>Diabetes</th>\n",
       "      <th>Alcoholism</th>\n",
       "      <th>Handcap</th>\n",
       "      <th>SMS_received</th>\n",
       "      <th>No-show</th>\n",
       "    </tr>\n",
       "  </thead>\n",
       "  <tbody>\n",
       "    <tr>\n",
       "      <th>0</th>\n",
       "      <td>F</td>\n",
       "      <td>2016-04-29 18:38:08+00:00</td>\n",
       "      <td>2016-04-29</td>\n",
       "      <td>62</td>\n",
       "      <td>0</td>\n",
       "      <td>1</td>\n",
       "      <td>0</td>\n",
       "      <td>0</td>\n",
       "      <td>0</td>\n",
       "      <td>0</td>\n",
       "      <td>No</td>\n",
       "    </tr>\n",
       "    <tr>\n",
       "      <th>1</th>\n",
       "      <td>M</td>\n",
       "      <td>2016-04-29 16:08:27+00:00</td>\n",
       "      <td>2016-04-29</td>\n",
       "      <td>56</td>\n",
       "      <td>0</td>\n",
       "      <td>0</td>\n",
       "      <td>0</td>\n",
       "      <td>0</td>\n",
       "      <td>0</td>\n",
       "      <td>0</td>\n",
       "      <td>No</td>\n",
       "    </tr>\n",
       "  </tbody>\n",
       "</table>\n",
       "</div>"
      ],
      "text/plain": [
       "  Gender              ScheduledDay AppointmentDay  Age  Scholarship  \\\n",
       "0      F 2016-04-29 18:38:08+00:00     2016-04-29   62            0   \n",
       "1      M 2016-04-29 16:08:27+00:00     2016-04-29   56            0   \n",
       "\n",
       "   Hipertension  Diabetes  Alcoholism  Handcap  SMS_received No-show  \n",
       "0             1         0           0        0             0      No  \n",
       "1             0         0           0        0             0      No  "
      ]
     },
     "execution_count": 62,
     "metadata": {},
     "output_type": "execute_result"
    }
   ],
   "source": [
    "df.head(2)"
   ]
  },
  {
   "cell_type": "markdown",
   "metadata": {},
   "source": [
    "#### 5. Drop Rows: \n",
    "In this Dataset, we found after present the description of the dataset, age value has -1 and 0 value (during show min value for the 'Age' colmn).Therefore, we skipped these rows and remove them, due to the size of the dataset was more than 100 thouseds records, the huge rows of the dataset will not be effected during analysis phase when removed  two rows from them. We did this step using this expression below:\n",
    "\n",
    "(Reference: https://hackersandslackers.com/pandas-dataframe-drop\n"
   ]
  },
  {
   "cell_type": "code",
   "execution_count": 63,
   "metadata": {
    "scrolled": true
   },
   "outputs": [],
   "source": [
    "df = df[df.Age != -1]\n",
    "df = df[df.Age != 0]"
   ]
  },
  {
   "cell_type": "code",
   "execution_count": 64,
   "metadata": {
    "scrolled": true
   },
   "outputs": [
    {
     "data": {
      "text/html": [
       "<div>\n",
       "<style scoped>\n",
       "    .dataframe tbody tr th:only-of-type {\n",
       "        vertical-align: middle;\n",
       "    }\n",
       "\n",
       "    .dataframe tbody tr th {\n",
       "        vertical-align: top;\n",
       "    }\n",
       "\n",
       "    .dataframe thead th {\n",
       "        text-align: right;\n",
       "    }\n",
       "</style>\n",
       "<table border=\"1\" class=\"dataframe\">\n",
       "  <thead>\n",
       "    <tr style=\"text-align: right;\">\n",
       "      <th></th>\n",
       "      <th>Age</th>\n",
       "      <th>Scholarship</th>\n",
       "      <th>Hipertension</th>\n",
       "      <th>Diabetes</th>\n",
       "      <th>Alcoholism</th>\n",
       "      <th>Handcap</th>\n",
       "      <th>SMS_received</th>\n",
       "    </tr>\n",
       "  </thead>\n",
       "  <tbody>\n",
       "    <tr>\n",
       "      <th>count</th>\n",
       "      <td>106987.000000</td>\n",
       "      <td>106987.000000</td>\n",
       "      <td>106987.000000</td>\n",
       "      <td>106987.000000</td>\n",
       "      <td>106987.000000</td>\n",
       "      <td>106987.000000</td>\n",
       "      <td>106987.000000</td>\n",
       "    </tr>\n",
       "    <tr>\n",
       "      <th>mean</th>\n",
       "      <td>38.316085</td>\n",
       "      <td>0.101031</td>\n",
       "      <td>0.203772</td>\n",
       "      <td>0.074243</td>\n",
       "      <td>0.031406</td>\n",
       "      <td>0.022975</td>\n",
       "      <td>0.323264</td>\n",
       "    </tr>\n",
       "    <tr>\n",
       "      <th>std</th>\n",
       "      <td>22.466214</td>\n",
       "      <td>0.301371</td>\n",
       "      <td>0.402804</td>\n",
       "      <td>0.262167</td>\n",
       "      <td>0.174412</td>\n",
       "      <td>0.164115</td>\n",
       "      <td>0.467725</td>\n",
       "    </tr>\n",
       "    <tr>\n",
       "      <th>min</th>\n",
       "      <td>1.000000</td>\n",
       "      <td>0.000000</td>\n",
       "      <td>0.000000</td>\n",
       "      <td>0.000000</td>\n",
       "      <td>0.000000</td>\n",
       "      <td>0.000000</td>\n",
       "      <td>0.000000</td>\n",
       "    </tr>\n",
       "    <tr>\n",
       "      <th>25%</th>\n",
       "      <td>19.000000</td>\n",
       "      <td>0.000000</td>\n",
       "      <td>0.000000</td>\n",
       "      <td>0.000000</td>\n",
       "      <td>0.000000</td>\n",
       "      <td>0.000000</td>\n",
       "      <td>0.000000</td>\n",
       "    </tr>\n",
       "    <tr>\n",
       "      <th>50%</th>\n",
       "      <td>38.000000</td>\n",
       "      <td>0.000000</td>\n",
       "      <td>0.000000</td>\n",
       "      <td>0.000000</td>\n",
       "      <td>0.000000</td>\n",
       "      <td>0.000000</td>\n",
       "      <td>0.000000</td>\n",
       "    </tr>\n",
       "    <tr>\n",
       "      <th>75%</th>\n",
       "      <td>56.000000</td>\n",
       "      <td>0.000000</td>\n",
       "      <td>0.000000</td>\n",
       "      <td>0.000000</td>\n",
       "      <td>0.000000</td>\n",
       "      <td>0.000000</td>\n",
       "      <td>1.000000</td>\n",
       "    </tr>\n",
       "    <tr>\n",
       "      <th>max</th>\n",
       "      <td>115.000000</td>\n",
       "      <td>1.000000</td>\n",
       "      <td>1.000000</td>\n",
       "      <td>1.000000</td>\n",
       "      <td>1.000000</td>\n",
       "      <td>4.000000</td>\n",
       "      <td>1.000000</td>\n",
       "    </tr>\n",
       "  </tbody>\n",
       "</table>\n",
       "</div>"
      ],
      "text/plain": [
       "                 Age    Scholarship   Hipertension       Diabetes  \\\n",
       "count  106987.000000  106987.000000  106987.000000  106987.000000   \n",
       "mean       38.316085       0.101031       0.203772       0.074243   \n",
       "std        22.466214       0.301371       0.402804       0.262167   \n",
       "min         1.000000       0.000000       0.000000       0.000000   \n",
       "25%        19.000000       0.000000       0.000000       0.000000   \n",
       "50%        38.000000       0.000000       0.000000       0.000000   \n",
       "75%        56.000000       0.000000       0.000000       0.000000   \n",
       "max       115.000000       1.000000       1.000000       1.000000   \n",
       "\n",
       "          Alcoholism        Handcap   SMS_received  \n",
       "count  106987.000000  106987.000000  106987.000000  \n",
       "mean        0.031406       0.022975       0.323264  \n",
       "std         0.174412       0.164115       0.467725  \n",
       "min         0.000000       0.000000       0.000000  \n",
       "25%         0.000000       0.000000       0.000000  \n",
       "50%         0.000000       0.000000       0.000000  \n",
       "75%         0.000000       0.000000       1.000000  \n",
       "max         1.000000       4.000000       1.000000  "
      ]
     },
     "execution_count": 64,
     "metadata": {},
     "output_type": "execute_result"
    }
   ],
   "source": [
    "df.describe()"
   ]
  },
  {
   "cell_type": "markdown",
   "metadata": {},
   "source": [
    "#### 6. Add a new Column:\n",
    "In this dataset, we suggest to do a categorization for the age in order to make analysis phase more easier during go through patients age. We used the command below to to divide age into four groups ('Children' , Youth'  ,'Adults' ,'Seniors' ) and save them in a new column called Age_Category \n",
    "\n",
    "\n",
    "(Reference: https://datatofish.com/if-condition-in-pandas-dataframe): "
   ]
  },
  {
   "cell_type": "code",
   "execution_count": 65,
   "metadata": {},
   "outputs": [],
   "source": [
    "df.loc[(df['Age']>=0) & (df['Age']<=14),'Age_Category']= 'Children' \n",
    "df.loc[(df['Age']>=15) & (df['Age']<=24),'Age_Category']= 'Youth' \n",
    "df.loc[(df['Age']>=25) & (df['Age']<=64),'Age_Category']= 'Adults' \n",
    "df.loc[(df['Age']>=65),'Age_Category']= 'Seniors' "
   ]
  },
  {
   "cell_type": "code",
   "execution_count": 66,
   "metadata": {
    "scrolled": true
   },
   "outputs": [
    {
     "data": {
      "text/plain": [
       "(0    62\n",
       " 1    56\n",
       " 2    62\n",
       " 3     8\n",
       " Name: Age, dtype: int64,\n",
       " 0      Adults\n",
       " 1      Adults\n",
       " 2      Adults\n",
       " 3    Children\n",
       " Name: Age_Category, dtype: object)"
      ]
     },
     "execution_count": 66,
     "metadata": {},
     "output_type": "execute_result"
    }
   ],
   "source": [
    "df['Age'].head(4) ,df['Age_Category'].head(4)"
   ]
  },
  {
   "cell_type": "markdown",
   "metadata": {},
   "source": [
    "Also, we want to change the value for the last column (No-show) in order to can add mask for the data, for the patiens how they are attend or not. we use the same command above: "
   ]
  },
  {
   "cell_type": "code",
   "execution_count": 67,
   "metadata": {},
   "outputs": [],
   "source": [
    "df.loc[(df['No-show']== 'Yes'), 'Attend_App']= 0\n",
    "df.loc[(df['No-show']== 'No'), 'Attend_App']= 1"
   ]
  },
  {
   "cell_type": "code",
   "execution_count": 68,
   "metadata": {},
   "outputs": [
    {
     "data": {
      "text/plain": [
       "0    1.0\n",
       "1    1.0\n",
       "2    1.0\n",
       "3    1.0\n",
       "Name: Attend_App, dtype: float64"
      ]
     },
     "execution_count": 68,
     "metadata": {},
     "output_type": "execute_result"
    }
   ],
   "source": [
    "df['Attend_App'].head(4)"
   ]
  },
  {
   "cell_type": "code",
   "execution_count": 69,
   "metadata": {
    "scrolled": true
   },
   "outputs": [
    {
     "name": "stdout",
     "output_type": "stream",
     "text": [
      "<class 'pandas.core.frame.DataFrame'>\n",
      "Int64Index: 106987 entries, 0 to 110526\n",
      "Data columns (total 13 columns):\n",
      " #   Column          Non-Null Count   Dtype              \n",
      "---  ------          --------------   -----              \n",
      " 0   Gender          106987 non-null  object             \n",
      " 1   ScheduledDay    106987 non-null  datetime64[ns, UTC]\n",
      " 2   AppointmentDay  106987 non-null  datetime64[ns]     \n",
      " 3   Age             106987 non-null  int64              \n",
      " 4   Scholarship     106987 non-null  int64              \n",
      " 5   Hipertension    106987 non-null  int64              \n",
      " 6   Diabetes        106987 non-null  int64              \n",
      " 7   Alcoholism      106987 non-null  int64              \n",
      " 8   Handcap         106987 non-null  int64              \n",
      " 9   SMS_received    106987 non-null  int64              \n",
      " 10  No-show         106987 non-null  object             \n",
      " 11  Age_Category    106987 non-null  object             \n",
      " 12  Attend_App      106987 non-null  float64            \n",
      "dtypes: datetime64[ns, UTC](1), datetime64[ns](1), float64(1), int64(7), object(3)\n",
      "memory usage: 11.4+ MB\n"
     ]
    }
   ],
   "source": [
    "df.info()"
   ]
  },
  {
   "cell_type": "markdown",
   "metadata": {},
   "source": [
    "#### 7. Change column value:\n",
    "In order to make results when column used during explore dataset in plot figures appeared clearly, we changed the values of 'SMS_received' column from (1, 0) to (Yes, No) using command below, and we save the new value inside a new column called 'SMS_Received'"
   ]
  },
  {
   "cell_type": "code",
   "execution_count": 70,
   "metadata": {},
   "outputs": [],
   "source": [
    "df.loc[(df['SMS_received']== 1), 'SMS_Received']= 'Yes'\n",
    "df.loc[(df['SMS_received']== 0), 'SMS_Received']= 'No'"
   ]
  },
  {
   "cell_type": "markdown",
   "metadata": {},
   "source": [
    "we did the same thing for the value of 'Alcoholism' column, we change the value from (1, 0) to (Yes, No) and save the new value inside a new column known as 'Alcoholism_Status'"
   ]
  },
  {
   "cell_type": "code",
   "execution_count": 71,
   "metadata": {},
   "outputs": [],
   "source": [
    "df.loc[(df['Alcoholism']== 1), 'Alcoholism_Status']= 'Yes'\n",
    "df.loc[(df['Alcoholism']== 0), 'Alcoholism_Status']= 'No'"
   ]
  },
  {
   "cell_type": "code",
   "execution_count": 72,
   "metadata": {},
   "outputs": [
    {
     "name": "stdout",
     "output_type": "stream",
     "text": [
      "<class 'pandas.core.frame.DataFrame'>\n",
      "Int64Index: 106987 entries, 0 to 110526\n",
      "Data columns (total 15 columns):\n",
      " #   Column             Non-Null Count   Dtype              \n",
      "---  ------             --------------   -----              \n",
      " 0   Gender             106987 non-null  object             \n",
      " 1   ScheduledDay       106987 non-null  datetime64[ns, UTC]\n",
      " 2   AppointmentDay     106987 non-null  datetime64[ns]     \n",
      " 3   Age                106987 non-null  int64              \n",
      " 4   Scholarship        106987 non-null  int64              \n",
      " 5   Hipertension       106987 non-null  int64              \n",
      " 6   Diabetes           106987 non-null  int64              \n",
      " 7   Alcoholism         106987 non-null  int64              \n",
      " 8   Handcap            106987 non-null  int64              \n",
      " 9   SMS_received       106987 non-null  int64              \n",
      " 10  No-show            106987 non-null  object             \n",
      " 11  Age_Category       106987 non-null  object             \n",
      " 12  Attend_App         106987 non-null  float64            \n",
      " 13  SMS_Received       106987 non-null  object             \n",
      " 14  Alcoholism_Status  106987 non-null  object             \n",
      "dtypes: datetime64[ns, UTC](1), datetime64[ns](1), float64(1), int64(7), object(5)\n",
      "memory usage: 13.1+ MB\n"
     ]
    }
   ],
   "source": [
    "df.info()"
   ]
  },
  {
   "cell_type": "markdown",
   "metadata": {},
   "source": [
    "Now, our data is ready for the next step. "
   ]
  },
  {
   "cell_type": "markdown",
   "metadata": {},
   "source": [
    "<a id='eda'></a>\n",
    "## Exploratory Data Analysis\n"
   ]
  },
  {
   "cell_type": "markdown",
   "metadata": {},
   "source": [
    "In this dataset, characteristics about each patient that included in the row’s dataset will be explored in generl. \n",
    "By using hist() command (As shown below), we found the most age of the patients who have appointment approximately between 4 years to 65 years old, and most of them attend thier appointments and did not suffer from alcoholism affect. As well, most of them did not suffer from any hipertensions or diabetes. Despite that half of the patients did not received SMS message as reminder for thier appointments and most of them did not have a scholarship, most of them attend thier appointments and they did not suffer from any handcaps. "
   ]
  },
  {
   "cell_type": "code",
   "execution_count": 73,
   "metadata": {
    "scrolled": false
   },
   "outputs": [
    {
     "data": {
      "image/png": "[encoded data removed]",
      "text/plain": [
       "<Figure size 1152x1152 with 9 Axes>"
      ]
     },
     "metadata": {
      "needs_background": "light"
     },
     "output_type": "display_data"
    }
   ],
   "source": [
    "df.hist(figsize=(16,16));"
   ]
  },
  {
   "cell_type": "markdown",
   "metadata": {},
   "source": [
    "In the questions below, we will go deeply in each characteristic to explore and Analyz our dataset. Many questions are mentiond below and  differents figures are drown below to go deeply in analysis phase. "
   ]
  },
  {
   "cell_type": "markdown",
   "metadata": {},
   "source": [
    "### 1. How many patients, whether they are male or female who show up their appointments?"
   ]
  },
  {
   "cell_type": "markdown",
   "metadata": {},
   "source": [
    "First, we did a mask for the value of column 'attend_App' in order to now how many patients whether they are attend appointment, or not. This variable well be used in most our analysis and will be associated with most of the other variables."
   ]
  },
  {
   "cell_type": "code",
   "execution_count": 74,
   "metadata": {},
   "outputs": [],
   "source": [
    "attend = df.Attend_App == True\n",
    "missed = df.Attend_App == False"
   ]
  },
  {
   "cell_type": "markdown",
   "metadata": {},
   "source": [
    "By using value_counts() command for 'attend' mask, more than 85 thousend (Approx: 79.7%)  of the patients show up thier appointments and approximatly 21 thousend (Approx:20.3%) did not show up thier appointments. "
   ]
  },
  {
   "cell_type": "code",
   "execution_count": 75,
   "metadata": {},
   "outputs": [
    {
     "data": {
      "text/plain": [
       "True     85307\n",
       "False    21680\n",
       "Name: Attend_App, dtype: int64"
      ]
     },
     "execution_count": 75,
     "metadata": {},
     "output_type": "execute_result"
    }
   ],
   "source": [
    "attend.value_counts()"
   ]
  },
  {
   "cell_type": "code",
   "execution_count": 76,
   "metadata": {},
   "outputs": [
    {
     "data": {
      "text/plain": [
       "True     0.797359\n",
       "False    0.202641\n",
       "Name: Attend_App, dtype: float64"
      ]
     },
     "execution_count": 76,
     "metadata": {},
     "output_type": "execute_result"
    }
   ],
   "source": [
    "attend.value_counts('%')"
   ]
  },
  {
   "cell_type": "markdown",
   "metadata": {},
   "source": [
    "As we can see from Figure 1 below, the number of male patients how attend thier appoitnemnt were approximately 29000 while they missed were less than 8000. On the other hand, the number of female patients how attend thier appoitnemnt were approximately more than 55000 while they missed were less than 16000. "
   ]
  },
  {
   "cell_type": "code",
   "execution_count": 77,
   "metadata": {},
   "outputs": [],
   "source": [
    "def histplotfun (x,y,xlab, ylab, xlabt, ylabt, ptitle, saname):\n",
    "    x.hist(figsize=(8,8) , alpha = 0.5, bins = 8 ,label= xlab)\n",
    "    y.hist(figsize=(8,8) , alpha = 0.5, bins = 8 ,label= ylab)\n",
    "    plt.xlabel(xlab)\n",
    "    plt.ylabel(ylab)\n",
    "    plt.title(ptitle)\n",
    "    plt.grid(True)\n",
    "    plt.legend()\n",
    "    plt.savefig(saname)\n",
    "    plt.show()\n",
    "    return  "
   ]
  },
  {
   "cell_type": "code",
   "execution_count": 113,
   "metadata": {
    "scrolled": false
   },
   "outputs": [
    {
     "data": {
      "image/png": "[encoded data removed]",
      "text/plain": [
       "<Figure size 576x576 with 1 Axes>"
      ]
     },
     "metadata": {
      "needs_background": "light"
     },
     "output_type": "display_data"
    }
   ],
   "source": [
    "histplotfun(df.Gender[attend], df.Gender[missed] , 'Attend', 'Missed', 'Gender', 'Appointment Status', 'Figure 1: Patients Who Show Up Their Appointments', \"test1.png\")"
   ]
  },
  {
   "cell_type": "code",
   "execution_count": 79,
   "metadata": {},
   "outputs": [
    {
     "data": {
      "text/plain": [
       "(F    55843\n",
       " M    29464\n",
       " Name: Gender, dtype: int64,\n",
       " F    14275\n",
       " M     7405\n",
       " Name: Gender, dtype: int64)"
      ]
     },
     "execution_count": 79,
     "metadata": {},
     "output_type": "execute_result"
    }
   ],
   "source": [
    "df.Gender[attend].value_counts(), df.Gender[missed].value_counts()"
   ]
  },
  {
   "cell_type": "code",
   "execution_count": 80,
   "metadata": {},
   "outputs": [
    {
     "data": {
      "text/plain": [
       "(F    0.654612\n",
       " M    0.345388\n",
       " Name: Gender, dtype: float64,\n",
       " F    0.658441\n",
       " M    0.341559\n",
       " Name: Gender, dtype: float64)"
      ]
     },
     "execution_count": 80,
     "metadata": {},
     "output_type": "execute_result"
    }
   ],
   "source": [
    "df.Gender[attend].value_counts('%') , df.Gender[missed].value_counts('%')"
   ]
  },
  {
   "cell_type": "markdown",
   "metadata": {},
   "source": [
    "### 2. Did the patients who show up their appointments received a reminder such SMS message? \n"
   ]
  },
  {
   "cell_type": "markdown",
   "metadata": {},
   "source": [
    "The number of the patients who received SMS messages were approximately 72402 patients, more than 25 thousends attend thier appointments, as we can see from the Figure 2 below, while more than 9 thousands did not attend. On the other hand, the number of the patients who did not received SMS messages and attend thier appointments were more than 60 thousends, while the patients who did not received SMS messages and did not attend thier appointments were 12 thousends. "
   ]
  },
  {
   "cell_type": "code",
   "execution_count": 81,
   "metadata": {
    "scrolled": true
   },
   "outputs": [
    {
     "data": {
      "text/plain": [
       "No     72402\n",
       "Yes    34585\n",
       "Name: SMS_Received, dtype: int64"
      ]
     },
     "execution_count": 81,
     "metadata": {},
     "output_type": "execute_result"
    }
   ],
   "source": [
    "df['SMS_Received'].value_counts()"
   ]
  },
  {
   "cell_type": "code",
   "execution_count": 82,
   "metadata": {
    "scrolled": false
   },
   "outputs": [
    {
     "data": {
      "text/plain": [
       "(No     60290\n",
       " Yes    25017\n",
       " Name: SMS_Received, dtype: int64,\n",
       " No     12112\n",
       " Yes     9568\n",
       " Name: SMS_Received, dtype: int64)"
      ]
     },
     "execution_count": 82,
     "metadata": {},
     "output_type": "execute_result"
    }
   ],
   "source": [
    "df.SMS_Received[attend].value_counts(), df.SMS_Received[missed].value_counts()"
   ]
  },
  {
   "cell_type": "code",
   "execution_count": 83,
   "metadata": {},
   "outputs": [
    {
     "data": {
      "text/plain": [
       "(No     0.706742\n",
       " Yes    0.293258\n",
       " Name: SMS_Received, dtype: float64,\n",
       " No     0.558672\n",
       " Yes    0.441328\n",
       " Name: SMS_Received, dtype: float64)"
      ]
     },
     "execution_count": 83,
     "metadata": {},
     "output_type": "execute_result"
    }
   ],
   "source": [
    "df.SMS_Received[attend].value_counts('%'), df.SMS_Received[missed].value_counts('%')"
   ]
  },
  {
   "cell_type": "code",
   "execution_count": 84,
   "metadata": {},
   "outputs": [
    {
     "data": {
      "image/png": "[encoded data removed]",
      "text/plain": [
       "<Figure size 576x576 with 1 Axes>"
      ]
     },
     "metadata": {
      "needs_background": "light"
     },
     "output_type": "display_data"
    }
   ],
   "source": [
    "histplotfun(df.SMS_Received[attend], df.SMS_Received[missed] , 'Attend', 'Missed', 'Received SMS Massages', 'Appointment Status', 'Figure 2: Patients Who Received SMS Massages', \"test2.png\")"
   ]
  },
  {
   "cell_type": "markdown",
   "metadata": {},
   "source": [
    "### 3. How many patients based on thier ages who show up their appointments? "
   ]
  },
  {
   "cell_type": "markdown",
   "metadata": {},
   "source": [
    "Based on the Age_Category column, we will explore the age of the patients whether they are attend or not attned thier appointments. As we can see from Figre 3 below, the numebr of children patients where those ages between (one and fourteen years old) who attend their appointments were approximately more than 15 thouseds, while they are not attend were less than 5 thouseds. The nmuber of youth patients where those ages between (fifteen and twenty four years old) who attend their appointments were approximately more than 10 thouseds, while they were not attend were less than 4 thouseds. On the other hand, the number of adults where those ages between (twenty five and sixty four years old) who attend their appointments were approximately more than 47 thouseds, while they were not attend were less than 12 thouseds. The number of seniors patients where those ages between (more than sixty four years old) who attend their appointments were approximately more than  10 thouseds, while they were not attend were less than 2500 . "
   ]
  },
  {
   "cell_type": "code",
   "execution_count": 85,
   "metadata": {},
   "outputs": [
    {
     "data": {
      "text/plain": [
       "Adults      58857\n",
       "Children    19718\n",
       "Seniors     14402\n",
       "Youth       14010\n",
       "Name: Age_Category, dtype: int64"
      ]
     },
     "execution_count": 85,
     "metadata": {},
     "output_type": "execute_result"
    }
   ],
   "source": [
    "df.Age_Category.value_counts()"
   ]
  },
  {
   "cell_type": "code",
   "execution_count": 86,
   "metadata": {},
   "outputs": [
    {
     "data": {
      "text/plain": [
       "(Adults      47237\n",
       " Children    15431\n",
       " Seniors     12169\n",
       " Youth       10470\n",
       " Name: Age_Category, dtype: int64,\n",
       " Adults      11620\n",
       " Children     4287\n",
       " Youth        3540\n",
       " Seniors      2233\n",
       " Name: Age_Category, dtype: int64)"
      ]
     },
     "execution_count": 86,
     "metadata": {},
     "output_type": "execute_result"
    }
   ],
   "source": [
    "df.Age_Category[attend].value_counts(), df.Age_Category[missed].value_counts()"
   ]
  },
  {
   "cell_type": "code",
   "execution_count": 87,
   "metadata": {
    "scrolled": true
   },
   "outputs": [
    {
     "data": {
      "text/plain": [
       "(Adults      0.553729\n",
       " Children    0.180888\n",
       " Seniors     0.142649\n",
       " Youth       0.122733\n",
       " Name: Age_Category, dtype: float64,\n",
       " Adults      0.535978\n",
       " Children    0.197740\n",
       " Youth       0.163284\n",
       " Seniors     0.102998\n",
       " Name: Age_Category, dtype: float64)"
      ]
     },
     "execution_count": 87,
     "metadata": {},
     "output_type": "execute_result"
    }
   ],
   "source": [
    "df.Age_Category[attend].value_counts('%'), df.Age_Category[missed].value_counts('%')"
   ]
  },
  {
   "cell_type": "code",
   "execution_count": 88,
   "metadata": {},
   "outputs": [
    {
     "data": {
      "image/png": "[encoded data removed]",
      "text/plain": [
       "<Figure size 576x576 with 1 Axes>"
      ]
     },
     "metadata": {
      "needs_background": "light"
     },
     "output_type": "display_data"
    }
   ],
   "source": [
    "histplotfun(df.Age_Category[attend], df.Age_Category[missed] , 'Attend', 'Missed', 'Age Categories', 'Appointment Status', 'Figure 3:Age Categories for thr Patients Who have appointments', \"test3.png\")"
   ]
  },
  {
   "cell_type": "markdown",
   "metadata": {},
   "source": [
    "### 4. Did the patients who show up their appointments have chronic illness such as hipertension and diabetes and how old are they?"
   ]
  },
  {
   "cell_type": "markdown",
   "metadata": {},
   "source": [
    "As we can see from Figure 4 and Figure 5, most of the patients who attend thier appointments and suffer from chronic illness such as hipertension and diabetes were appeared by a high rate in adults and seniors patients, consecutively, hipertension appeared with 59% in adults and 39% in seniors, while diabetes appeared with 56% in adults and 42% in seniors. "
   ]
  },
  {
   "cell_type": "code",
   "execution_count": 89,
   "metadata": {},
   "outputs": [
    {
     "data": {
      "text/plain": [
       "Adults      58857\n",
       "Children    19718\n",
       "Seniors     14402\n",
       "Youth       14010\n",
       "Name: Age_Category, dtype: int64"
      ]
     },
     "execution_count": 89,
     "metadata": {},
     "output_type": "execute_result"
    }
   ],
   "source": [
    "df['Age_Category'].value_counts()"
   ]
  },
  {
   "cell_type": "code",
   "execution_count": 90,
   "metadata": {},
   "outputs": [
    {
     "data": {
      "text/plain": [
       "Adults      47237\n",
       "Children    15431\n",
       "Seniors     12169\n",
       "Youth       10470\n",
       "Name: Age_Category, dtype: int64"
      ]
     },
     "execution_count": 90,
     "metadata": {},
     "output_type": "execute_result"
    }
   ],
   "source": [
    "df['Age_Category'][attend].value_counts()"
   ]
  },
  {
   "cell_type": "code",
   "execution_count": 91,
   "metadata": {},
   "outputs": [
    {
     "data": {
      "text/plain": [
       "Adults      0.553729\n",
       "Children    0.180888\n",
       "Seniors     0.142649\n",
       "Youth       0.122733\n",
       "Name: Age_Category, dtype: float64"
      ]
     },
     "execution_count": 91,
     "metadata": {},
     "output_type": "execute_result"
    }
   ],
   "source": [
    "df['Age_Category'][attend].value_counts('%')"
   ]
  },
  {
   "cell_type": "code",
   "execution_count": 92,
   "metadata": {},
   "outputs": [
    {
     "name": "stderr",
     "output_type": "stream",
     "text": [
      "<ipython-input-92-44a06d7ab38d>:1: UserWarning: Boolean Series key will be reindexed to match DataFrame index.\n",
      "  df.query('Hipertension == 1 ')[attend]['Age_Category'].value_counts()\n"
     ]
    },
    {
     "data": {
      "text/plain": [
       "Adults      10792\n",
       "Seniors      7167\n",
       "Youth          58\n",
       "Children       12\n",
       "Name: Age_Category, dtype: int64"
      ]
     },
     "execution_count": 92,
     "metadata": {},
     "output_type": "execute_result"
    }
   ],
   "source": [
    "df.query('Hipertension == 1 ')[attend]['Age_Category'].value_counts()"
   ]
  },
  {
   "cell_type": "code",
   "execution_count": 93,
   "metadata": {},
   "outputs": [
    {
     "name": "stderr",
     "output_type": "stream",
     "text": [
      "<ipython-input-93-146d1a473e6c>:1: UserWarning: Boolean Series key will be reindexed to match DataFrame index.\n",
      "  df.query('Hipertension == 1 ')[attend]['Age_Category'].value_counts('%')\n"
     ]
    },
    {
     "data": {
      "text/plain": [
       "Adults      0.598591\n",
       "Seniors     0.397526\n",
       "Youth       0.003217\n",
       "Children    0.000666\n",
       "Name: Age_Category, dtype: float64"
      ]
     },
     "execution_count": 93,
     "metadata": {},
     "output_type": "execute_result"
    }
   ],
   "source": [
    "df.query('Hipertension == 1 ')[attend]['Age_Category'].value_counts('%')"
   ]
  },
  {
   "cell_type": "code",
   "execution_count": 94,
   "metadata": {},
   "outputs": [
    {
     "data": {
      "text/plain": [
       "Adults      4489\n",
       "Seniors     3363\n",
       "Youth         72\n",
       "Children      19\n",
       "Name: Age_Category, dtype: int64"
      ]
     },
     "execution_count": 94,
     "metadata": {},
     "output_type": "execute_result"
    }
   ],
   "source": [
    "df.query('Diabetes == 1 ')['Age_Category'].value_counts()"
   ]
  },
  {
   "cell_type": "code",
   "execution_count": 95,
   "metadata": {},
   "outputs": [
    {
     "name": "stderr",
     "output_type": "stream",
     "text": [
      "<ipython-input-95-dc3ad88bd16a>:1: UserWarning: Boolean Series key will be reindexed to match DataFrame index.\n",
      "  df.query('Diabetes == 1 ')[attend]['Age_Category'].value_counts()\n"
     ]
    },
    {
     "data": {
      "text/plain": [
       "Adults      3664\n",
       "Seniors     2786\n",
       "Youth         49\n",
       "Children      14\n",
       "Name: Age_Category, dtype: int64"
      ]
     },
     "execution_count": 95,
     "metadata": {},
     "output_type": "execute_result"
    }
   ],
   "source": [
    "df.query('Diabetes == 1 ')[attend]['Age_Category'].value_counts()"
   ]
  },
  {
   "cell_type": "code",
   "execution_count": 96,
   "metadata": {
    "scrolled": true
   },
   "outputs": [
    {
     "name": "stderr",
     "output_type": "stream",
     "text": [
      "<ipython-input-96-e389a0d587a0>:1: UserWarning: Boolean Series key will be reindexed to match DataFrame index.\n",
      "  df.query('Diabetes == 1 ')[attend]['Age_Category'].value_counts('%')\n"
     ]
    },
    {
     "data": {
      "text/plain": [
       "Adults      0.562567\n",
       "Seniors     0.427760\n",
       "Youth       0.007523\n",
       "Children    0.002150\n",
       "Name: Age_Category, dtype: float64"
      ]
     },
     "execution_count": 96,
     "metadata": {},
     "output_type": "execute_result"
    }
   ],
   "source": [
    "df.query('Diabetes == 1 ')[attend]['Age_Category'].value_counts('%')"
   ]
  },
  {
   "cell_type": "code",
   "execution_count": 103,
   "metadata": {},
   "outputs": [],
   "source": [
    "def barplotfun (x,col, xlab,xlabt, ylabt, ptitle, saname):\n",
    "    x.plot(kind ='bar',alpha=0.5,figsize=(15,15), color = col, label = xlab)\n",
    "    plt.xlabel(xlabt)\n",
    "    plt.ylabel(ylabt)\n",
    "    plt.title(ptitle)\n",
    "    plt.grid(True)\n",
    "    plt.legend()\n",
    "    plt.savefig(saname)\n",
    "    return\n"
   ]
  },
  {
   "cell_type": "code",
   "execution_count": 105,
   "metadata": {},
   "outputs": [
    {
     "name": "stderr",
     "output_type": "stream",
     "text": [
      "<ipython-input-105-5fa0f26cea5c>:3: UserWarning: Boolean Series key will be reindexed to match DataFrame index.\n",
      "  barplotfun (df.query('Hipertension == 1')[attend]['Age_Category'].value_counts('%'),'red', 'Hipertension','Age Categories', 'Patients Who Have Hipertensions','Figure 4: Patients Who Attend appointments and Have Hipertensions', \"test6.png\")\n",
      "<ipython-input-105-5fa0f26cea5c>:5: UserWarning: Boolean Series key will be reindexed to match DataFrame index.\n",
      "  barplotfun(df.query('Diabetes == 1')[attend]['Age_Category'].value_counts('%'),'blue','Diabetes','Age Categories', 'Patients Who Have Diabetes','Figure 5: Patients Who Attend appointments and Have Diabetes', \"test7.png\")\n"
     ]
    },
    {
     "data": {
      "image/png": "[encoded data removed]",
      "text/plain": [
       "<Figure size 1080x1080 with 2 Axes>"
      ]
     },
     "metadata": {
      "needs_background": "light"
     },
     "output_type": "display_data"
    }
   ],
   "source": [
    "fig = plt.figure()\n",
    "fig.add_subplot(221)   #top left\n",
    "barplotfun (df.query('Hipertension == 1')[attend]['Age_Category'].value_counts('%'),'red', 'Hipertension','Age Categories', 'Patients Who Have Hipertensions','Figure 4: Patients Who Attend appointments and Have Hipertensions', \"test6.png\")\n",
    "fig.add_subplot(222)   #top right\n",
    "barplotfun(df.query('Diabetes == 1')[attend]['Age_Category'].value_counts('%'),'blue','Diabetes','Age Categories', 'Patients Who Have Diabetes','Figure 5: Patients Who Attend appointments and Have Diabetes', \"test7.png\")"
   ]
  },
  {
   "cell_type": "markdown",
   "metadata": {},
   "source": [
    "We found this link reference: https://stackoverflow.com/questions/37472398/how-to-aggregate-plots-into-figure-with-subplots to prepared multiple plots as figure with subplots \n",
    "            "
   ]
  },
  {
   "cell_type": "markdown",
   "metadata": {},
   "source": [
    "### Did the patients who have scholarship and suffer from Alcoholism show up their appointments?"
   ]
  },
  {
   "cell_type": "markdown",
   "metadata": {},
   "source": [
    "In this section, we will foucs on the patients who attend or missed thier appointments, and weather they have a scholership or not, and whether they have suffered from alcoholism or not. Based on the subplots below, in figure 6, the number of the attend patients and who have a acholership, and suffered from alcoholism were approximately less than 4 thousands patients, however,the number of who did not suffered from alcoholism were approximately 7800 patients. \n",
    "\n",
    "On the other side, in figure 7, we found that,the number of the attend patients who did not a acholership but suffered from alcoholism were approximately less than 2500 patients, however,who did not suffered from alcoholism were approximately more than 74 thousands patients.\n",
    "\n",
    "In figure 8,the number of the missed patients and who have a acholership, and suffered from alcoholism were approximately less than 2 hundreds patients, however,the number of who did not suffered from alcoholism were approximately less than 2500 patients. \n",
    "\n",
    "In figure 9, we found that, the number of the missed patients and who did not have a acholership, and suffered from alcoholism were approximately less than 6 hundreds patients, however,the number of who did not suffered from alcoholism were approximately less than 19 thousands patients."
   ]
  },
  {
   "cell_type": "code",
   "execution_count": 106,
   "metadata": {},
   "outputs": [
    {
     "name": "stderr",
     "output_type": "stream",
     "text": [
      "<ipython-input-106-93a5331bbfca>:1: UserWarning: Boolean Series key will be reindexed to match DataFrame index.\n",
      "  df.query('Scholarship == 1 ')[attend]['Alcoholism_Status'].value_counts()\n"
     ]
    },
    {
     "data": {
      "text/plain": [
       "No     7859\n",
       "Yes     379\n",
       "Name: Alcoholism_Status, dtype: int64"
      ]
     },
     "execution_count": 106,
     "metadata": {},
     "output_type": "execute_result"
    }
   ],
   "source": [
    "df.query('Scholarship == 1 ')[attend]['Alcoholism_Status'].value_counts()"
   ]
  },
  {
   "cell_type": "code",
   "execution_count": 107,
   "metadata": {
    "scrolled": true
   },
   "outputs": [
    {
     "name": "stderr",
     "output_type": "stream",
     "text": [
      "<ipython-input-107-fd7c716da628>:1: UserWarning: Boolean Series key will be reindexed to match DataFrame index.\n",
      "  df.query('Scholarship == 0 ')[attend]['Alcoholism_Status'].value_counts()\n"
     ]
    },
    {
     "data": {
      "text/plain": [
       "No     74765\n",
       "Yes     2304\n",
       "Name: Alcoholism_Status, dtype: int64"
      ]
     },
     "execution_count": 107,
     "metadata": {},
     "output_type": "execute_result"
    }
   ],
   "source": [
    "df.query('Scholarship == 0 ')[attend]['Alcoholism_Status'].value_counts()"
   ]
  },
  {
   "cell_type": "code",
   "execution_count": 108,
   "metadata": {
    "scrolled": true
   },
   "outputs": [
    {
     "name": "stderr",
     "output_type": "stream",
     "text": [
      "<ipython-input-108-8d4c6f3c07e4>:1: UserWarning: Boolean Series key will be reindexed to match DataFrame index.\n",
      "  df.query('Scholarship == 1 ')[missed]['Alcoholism_Status'].value_counts()\n"
     ]
    },
    {
     "data": {
      "text/plain": [
       "No     2422\n",
       "Yes     149\n",
       "Name: Alcoholism_Status, dtype: int64"
      ]
     },
     "execution_count": 108,
     "metadata": {},
     "output_type": "execute_result"
    }
   ],
   "source": [
    "df.query('Scholarship == 1 ')[missed]['Alcoholism_Status'].value_counts()"
   ]
  },
  {
   "cell_type": "code",
   "execution_count": 109,
   "metadata": {
    "scrolled": true
   },
   "outputs": [
    {
     "name": "stderr",
     "output_type": "stream",
     "text": [
      "<ipython-input-109-926d41017508>:1: UserWarning: Boolean Series key will be reindexed to match DataFrame index.\n",
      "  df.query('Scholarship == 0 ')[missed]['Alcoholism_Status'].value_counts()\n"
     ]
    },
    {
     "data": {
      "text/plain": [
       "No     18581\n",
       "Yes      528\n",
       "Name: Alcoholism_Status, dtype: int64"
      ]
     },
     "execution_count": 109,
     "metadata": {},
     "output_type": "execute_result"
    }
   ],
   "source": [
    "df.query('Scholarship == 0 ')[missed]['Alcoholism_Status'].value_counts()"
   ]
  },
  {
   "cell_type": "code",
   "execution_count": 112,
   "metadata": {},
   "outputs": [
    {
     "name": "stderr",
     "output_type": "stream",
     "text": [
      "<ipython-input-112-e19ce61b78ec>:4: UserWarning: Boolean Series key will be reindexed to match DataFrame index.\n",
      "  barplotfun (df.query('Scholarship == 1')[attend]['Alcoholism_Status'].value_counts(),'blue','Attend Patients','Alcoholism Status', 'Patients Who Have Scholarship', 'Figure 6: Alcoholism Status for Attend Patients And Have Scholarship', \"test10.png\")\n",
      "<ipython-input-112-e19ce61b78ec>:7: UserWarning: Boolean Series key will be reindexed to match DataFrame index.\n",
      "  barplotfun (df.query('Scholarship == 0 ')[attend]['Alcoholism_Status'].value_counts(),'red', 'Attend Patients','Alcoholism Status', 'Patients Who Did Not Have Scholarship', 'Figure 7: Alcoholism Status for Attend Patients And Did Not Have Scholarship', \"test11.png\")\n",
      "<ipython-input-112-e19ce61b78ec>:10: UserWarning: Boolean Series key will be reindexed to match DataFrame index.\n",
      "  barplotfun (df.query('Scholarship == 1 ')[missed]['Alcoholism_Status'].value_counts(),'green','Missed Patients','Alcoholism Status', 'Patients Who Have Hipertensions', 'Figure 8: Alcoholism Status for Missed Patients and Have Scholarship', \"test12.png\")\n",
      "<ipython-input-112-e19ce61b78ec>:13: UserWarning: Boolean Series key will be reindexed to match DataFrame index.\n",
      "  barplotfun (df.query('Scholarship == 0 ')[missed]['Alcoholism_Status'].value_counts(),'yellow', 'Missed Patients','Alcoholism Status','Patients Who Have Scholarship','Figure 9: Alcoholism Status for Missed Patients and Did Not Have Scholarship',\"test13.png\")\n"
     ]
    },
    {
     "data": {
      "image/png": "[encoded data removed]",
      "text/plain": [
       "<Figure size 1080x1080 with 4 Axes>"
      ]
     },
     "metadata": {
      "needs_background": "light"
     },
     "output_type": "display_data"
    }
   ],
   "source": [
    "fig = plt.figure()\n",
    "\n",
    "fig.add_subplot(221)   #top left\n",
    "barplotfun (df.query('Scholarship == 1')[attend]['Alcoholism_Status'].value_counts(),'blue','Attend Patients','Alcoholism Status', 'Patients Who Have Scholarship', 'Figure 6: Alcoholism Status for Attend Patients And Have Scholarship', \"test10.png\")\n",
    "\n",
    "fig.add_subplot(222)  #top right\n",
    "barplotfun (df.query('Scholarship == 0 ')[attend]['Alcoholism_Status'].value_counts(),'red', 'Attend Patients','Alcoholism Status', 'Patients Who Did Not Have Scholarship', 'Figure 7: Alcoholism Status for Attend Patients And Did Not Have Scholarship', \"test11.png\")\n",
    "\n",
    "fig.add_subplot(223)   #Bottom left\n",
    "barplotfun (df.query('Scholarship == 1 ')[missed]['Alcoholism_Status'].value_counts(),'green','Missed Patients','Alcoholism Status', 'Patients Who Have Hipertensions', 'Figure 8: Alcoholism Status for Missed Patients and Have Scholarship', \"test12.png\")\n",
    "\n",
    "fig.add_subplot(224)   #Bottom right\n",
    "barplotfun (df.query('Scholarship == 0 ')[missed]['Alcoholism_Status'].value_counts(),'yellow', 'Missed Patients','Alcoholism Status','Patients Who Have Scholarship','Figure 9: Alcoholism Status for Missed Patients and Did Not Have Scholarship',\"test13.png\")"
   ]
  },
  {
   "cell_type": "markdown",
   "metadata": {},
   "source": [
    "<a id='conclusions'></a>\n",
    "## Conclusions"
   ]
  },
  {
   "cell_type": "markdown",
   "metadata": {},
   "source": [
    "In the noshowappointments dataset, we analysed characteristics of the patients, and we conclude that. Firstly, eighty five thousand patients (Approx: 79.7%) show up thier appointments, approximately fifty five thousand patients were female while approximately twenty nine thousand patients were male, almost twinty five thousand patients received SMS messages as reminder.\n",
    "\n",
    "Based on the age category for the attend patients were approximately fifteen thoused patients were children, ten thoused patients were youth, fourty seven thoused patients were Adults, and twelve thoused patients were seniors, most chronic illness such as hipertension and diabetes were appeared by a high rate in adults and seniors attend patients, consecutively, hipertension appeared with 59% in adults and 39% in seniors, while diabetes appeared with 56% in adults and 42% in seniors. \n",
    "\n",
    "Despite that, the number of the attend patients and who have a acholership and suffered from alcoholism were approximately less than 4 thousands patients, however,the number of who did not suffered from alcoholism were approximately 7800 patients.\n",
    "\n",
    "In addition, the number of the attend patients who did not a acholership but suffered from alcoholism were approximately less than 2500 patients, however,who did not suffered from alcoholism were approximately more than 74 thousands patients.\n",
    "\n",
    "\n",
    "The limitations in this analysis are that despite the number of patients was huge whereas including more than 100 thousand patients,  still not appropriate for the percentage of females be more than male twice. The suggestion is making the percentage for each gender at the same level. \n",
    "\n",
    "Moreover, some data were missing in this dataset. Children category who have appointments can not come without their parents, the main idea is to know who reserved appointments for these children, to inform why the children whether they came or not. Besides that, the type of appointments was missing, it is substantial to know the type of appointments to know why the patients whether show up their appointments, or not, which type of diseases they have. \n",
    "\n",
    "The patients' information who have appointments are included in the dataset, nevertheless still uncomfortable to decide any recommendation in the conclusion where some of the important values are missing or unclear.\n"
   ]
  },
  {
   "cell_type": "code",
   "execution_count": null,
   "metadata": {
    "collapsed": true
   },
   "outputs": [],
   "source": [
    "from subprocess import call\n",
    "call(['python', '-m', 'nbconvert', 'Investigate_a_Dataset.ipynb'])"
   ]
  }
 ],
 "metadata": {
  "kernelspec": {
   "display_name": "Python 3",
   "language": "python",
   "name": "python3"
  },
  "language_info": {
   "codemirror_mode": {
    "name": "ipython",
    "version": 3
   },
   "file_extension": ".py",
   "mimetype": "text/x-python",
   "name": "python",
   "nbconvert_exporter": "python",
   "pygments_lexer": "ipython3",
   "version": "3.8.3"
  }
 },
 "nbformat": 4,
 "nbformat_minor": 2
}
